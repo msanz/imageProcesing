{
 "cells": [
  {
   "cell_type": "code",
   "execution_count": null,
   "metadata": {
    "collapsed": false
   },
   "outputs": [],
   "source": [
    "# -*- coding: utf-8 -*-\n",
    "\"\"\"\n",
    "Created on Sat Mar 05 16:35:30 2016\n",
    "\n",
    "@author: maite\n",
    "\"\"\"\n",
    "import os\n",
    "import cv2\n",
    "import numpy as np\n",
    "\n",
    "CV_CAP_PROP_FRAME_COUNT = 7\n",
    "CAP_PROP_FPS = 5\n",
    "CAP_PROP_CONVERT_RGB = 16\n",
    "CAP_PROP_POS_MSEC = 0\n",
    "\n",
    "separator = \"/\"\n",
    "videoFolder = \"gamesa_videos\"\n",
    "videoName = \"PALA\"\n",
    "videoFormat = \".mp4\"\n",
    "\n",
    "imageExtension = \".png\"\n",
    "imagesFolder = \"imgs\" + videoName\n",
    "print imagesFolder\n",
    "\n",
    "#comprobar si existe la carpeta para guardar los frames del video. En caso negativo, crear la carpeta\n",
    "if not os.path.exists(imagesFolder):\n",
    "    os.makedirs(imagesFolder)\n",
    "\n",
    "#concatenacion del nombre del fichero\n",
    "strVideo = videoFolder + separator + videoName + videoFormat\n",
    "print strVideo\n",
    "\n",
    "#abrir el video\n",
    "cap = cv2.VideoCapture(strVideo)\n",
    "\n",
    "cap == False\n",
    "\n",
    "#si el video no se abre aparece un mensaje de error y se cierra la aplicación\n",
    "if (cap is False):\n",
    "    print \"No se ha podido abrir el video {}\".format(strVideo)\n",
    "    #return -1\n",
    "\n",
    "print \"video abierto: {}\".format(cap.isOpened())\n",
    "\n",
    "#obtener propiedades del video\n",
    "frames = cap.get(CV_CAP_PROP_FRAME_COUNT)\n",
    "fps = cap.get(CAP_PROP_FPS)\n",
    "\n",
    "#print frames\n",
    "#print fps\n",
    "\n",
    "#params = list()\n",
    "#params.append(cv2.IMWRITE_PNG_COMPRESSION)\n",
    "#params.append(8)\n",
    "\n",
    "#contador de imagenes guardadas\n",
    "i = 0\n",
    "success, frame = cap.read()\n",
    "\n",
    "#while( frame is not None and i < 50 ) :\n",
    "while( success ) :\n",
    "\n",
    "    #modificar el nombre de la imagen\n",
    "    imageName = \"{}{}{}{}{}\".format(imagesFolder, separator, videoName, i,imageExtension)\n",
    "\n",
    "    #flags = [i for i in dir(cv2) if i.startswith('COLOR_')]\n",
    "    #print flags\n",
    "\n",
    "    #cv2.imshow(imageName, frame)\n",
    "    cv2.imwrite(imageName, frame)\n",
    "\n",
    "    #mostrar la imagen obtenida\n",
    "    #cv2.namedWindow(imgName, 1)\n",
    "    #cv2.imshow(imgName, frame)\n",
    "    success,frame = cap.read()\n",
    "    i += 1\n",
    "    \n",
    "print \"{} imagenes obtenidas del video {}\".format(i, videoName)\n",
    "cv2.imshow(imageName, frame)\n",
    "k = cv2.waitKey(0) & 0xFF\n",
    "\n",
    "#liberar recursos\n",
    "cap.release()\n",
    "#cv2.destroyAllWindows()"
   ]
  },
  {
   "cell_type": "code",
   "execution_count": 5,
   "metadata": {
    "collapsed": false
   },
   "outputs": [
    {
     "name": "stdout",
     "output_type": "stream",
     "text": [
      "image_0.jpg\n",
      "Done!\n"
     ]
    }
   ],
   "source": [
    "import cv2\n",
    "import math\n",
    "\n",
    "separator = \"/\"\n",
    "videoFolder = \"gamesa_videos\"\n",
    "videoName = \"PALA\"\n",
    "videoFormat = \".mp4\"\n",
    "\n",
    "videoFile = videoFolder + separator + videoName + videoFormat\n",
    "\n",
    "cap = cv2.VideoCapture(videoFile)\n",
    "frameRate = cap.get(5) #frame rate\n",
    "#while(cap.isOpened()):\n",
    "frameId = cap.get(1) #current frame number\n",
    "ret, frame = cap.read()\n",
    "if (ret != True):\n",
    "    print \"first if\"\n",
    "    #break\n",
    "if (frameId % math.floor(frameRate) == 0):\n",
    "    filename = \"image_\" +  str(int(frameId)) + \".jpg\"\n",
    "    print filename\n",
    "    cv2.imwrite(filename, frame)\n",
    "cap.release()\n",
    "print \"Done!\""
   ]
  },
  {
   "cell_type": "code",
   "execution_count": 15,
   "metadata": {
    "collapsed": false
   },
   "outputs": [
    {
     "name": "stdout",
     "output_type": "stream",
     "text": [
      "imgsPALA\\PALA20.jpg\n",
      "[[[196 148 112]\n",
      "  [196 148 112]\n",
      "  [196 148 112]\n",
      "  ..., \n",
      "  [233 195 153]\n",
      "  [233 195 153]\n",
      "  [233 195 153]]\n",
      "\n",
      " [[196 148 112]\n",
      "  [196 148 112]\n",
      "  [196 148 112]\n",
      "  ..., \n",
      "  [233 195 153]\n",
      "  [233 195 153]\n",
      "  [233 195 153]]\n",
      "\n",
      " [[196 148 112]\n",
      "  [196 148 112]\n",
      "  [197 149 113]\n",
      "  ..., \n",
      "  [233 195 153]\n",
      "  [233 195 153]\n",
      "  [233 195 153]]\n",
      "\n",
      " ..., \n",
      " [[ 68  88  89]\n",
      "  [ 71  88  91]\n",
      "  [ 64  81  84]\n",
      "  ..., \n",
      "  [102 117 126]\n",
      "  [103 118 127]\n",
      "  [101 116 125]]\n",
      "\n",
      " [[ 63  81  82]\n",
      "  [ 64  82  83]\n",
      "  [ 65  82  85]\n",
      "  ..., \n",
      "  [ 97 112 121]\n",
      "  [ 96 111 120]\n",
      "  [ 94 109 118]]\n",
      "\n",
      " [[ 63  81  82]\n",
      "  [ 59  77  78]\n",
      "  [ 63  80  83]\n",
      "  ..., \n",
      "  [ 91 106 115]\n",
      "  [ 93 108 117]\n",
      "  [ 97 112 121]]]\n"
     ]
    },
    {
     "data": {
      "text/plain": [
       "-1"
      ]
     },
     "execution_count": 15,
     "metadata": {},
     "output_type": "execute_result"
    }
   ],
   "source": [
    "imageName = \"imgsPALA\\PALA20.jpg\"\n",
    "\n",
    "print imageName\n",
    "image = cv2.imread(imageName)\n",
    "print image\n",
    "\n",
    "#print size(image)\n",
    "\n",
    "cv2.imshow(\"imagen\", image)\n",
    "cv2.waitKey(0)\n",
    "#cv2.waitKey(1000)\n",
    "#cv2.destroyAllWindows()"
   ]
  },
  {
   "cell_type": "code",
   "execution_count": null,
   "metadata": {
    "collapsed": true
   },
   "outputs": [],
   "source": []
  }
 ],
 "metadata": {
  "kernelspec": {
   "display_name": "Python 2",
   "language": "python",
   "name": "python2"
  },
  "language_info": {
   "codemirror_mode": {
    "name": "ipython",
    "version": 2
   },
   "file_extension": ".py",
   "mimetype": "text/x-python",
   "name": "python",
   "nbconvert_exporter": "python",
   "pygments_lexer": "ipython2",
   "version": "2.7.11"
  }
 },
 "nbformat": 4,
 "nbformat_minor": 0
}
